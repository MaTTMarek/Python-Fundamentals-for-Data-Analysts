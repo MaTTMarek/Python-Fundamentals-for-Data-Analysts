{
 "cells": [
  {
   "cell_type": "code",
   "execution_count": 1,
   "id": "13b75e61",
   "metadata": {},
   "outputs": [],
   "source": [
    "# Import libraries\n",
    "\n",
    "import pandas as pd\n",
    "import numpy as np\n",
    "import os\n",
    "import matplotlib.pyplot as plt\n",
    "import seaborn as sns\n",
    "import scipy"
   ]
  },
  {
   "cell_type": "code",
   "execution_count": 2,
   "id": "32255517",
   "metadata": {},
   "outputs": [],
   "source": [
    "# path\n",
    "path = r'C:\\Users\\mateu\\Desktop\\Master_Folder'"
   ]
  },
  {
   "cell_type": "code",
   "execution_count": 4,
   "id": "629bce01",
   "metadata": {},
   "outputs": [],
   "source": [
    "# Importing data set\n",
    "df_ords_cust_merged = pd.read_pickle (r'C:\\Users\\mateu\\Desktop\\Master_Folder\\02 Data\\Prepared Data\\ords_prods_customers_merged')"
   ]
  },
  {
   "cell_type": "code",
   "execution_count": 6,
   "id": "1d21f5b7",
   "metadata": {},
   "outputs": [
    {
     "data": {
      "text/html": [
       "<div>\n",
       "<style scoped>\n",
       "    .dataframe tbody tr th:only-of-type {\n",
       "        vertical-align: middle;\n",
       "    }\n",
       "\n",
       "    .dataframe tbody tr th {\n",
       "        vertical-align: top;\n",
       "    }\n",
       "\n",
       "    .dataframe thead th {\n",
       "        text-align: right;\n",
       "    }\n",
       "</style>\n",
       "<table border=\"1\" class=\"dataframe\">\n",
       "  <thead>\n",
       "    <tr style=\"text-align: right;\">\n",
       "      <th></th>\n",
       "      <th>order_id</th>\n",
       "      <th>user_id</th>\n",
       "      <th>order_number</th>\n",
       "      <th>order_dow</th>\n",
       "      <th>order_hour_of_day</th>\n",
       "      <th>days_since_prior_order</th>\n",
       "      <th>first_order</th>\n",
       "      <th>product_id</th>\n",
       "      <th>add_to_cart_order</th>\n",
       "      <th>reordered</th>\n",
       "      <th>product_name</th>\n",
       "      <th>aisle_id</th>\n",
       "      <th>department_id</th>\n",
       "      <th>prices</th>\n",
       "      <th>_merge</th>\n",
       "      <th>price_range_loc</th>\n",
       "      <th>busiest_day</th>\n",
       "      <th>Busiest_day</th>\n",
       "      <th>Busiest_period_of_day</th>\n",
       "      <th>max_order</th>\n",
       "      <th>loyalty_flag</th>\n",
       "      <th>spending</th>\n",
       "      <th>spending_flag</th>\n",
       "      <th>frequency</th>\n",
       "      <th>frequency_flag</th>\n",
       "      <th>first_name</th>\n",
       "      <th>Surname</th>\n",
       "      <th>Gender</th>\n",
       "      <th>State</th>\n",
       "      <th>Age</th>\n",
       "      <th>date_joined</th>\n",
       "      <th>Number_of_dependants</th>\n",
       "      <th>fam_status</th>\n",
       "      <th>income</th>\n",
       "      <th>day_of_week</th>\n",
       "    </tr>\n",
       "  </thead>\n",
       "  <tbody>\n",
       "    <tr>\n",
       "      <th>0</th>\n",
       "      <td>2539329</td>\n",
       "      <td>1</td>\n",
       "      <td>1</td>\n",
       "      <td>2</td>\n",
       "      <td>8</td>\n",
       "      <td>NaN</td>\n",
       "      <td>True</td>\n",
       "      <td>196</td>\n",
       "      <td>1.0</td>\n",
       "      <td>0.0</td>\n",
       "      <td>Soda</td>\n",
       "      <td>77.0</td>\n",
       "      <td>7.0</td>\n",
       "      <td>9.0</td>\n",
       "      <td>both</td>\n",
       "      <td>Mid-range product</td>\n",
       "      <td>Regularly busy</td>\n",
       "      <td>Regularly busy</td>\n",
       "      <td>Average_orders</td>\n",
       "      <td>11</td>\n",
       "      <td>Regular customer</td>\n",
       "      <td>6.367797</td>\n",
       "      <td>Low Spender</td>\n",
       "      <td>20.0</td>\n",
       "      <td>Regular customer</td>\n",
       "      <td>Linda</td>\n",
       "      <td>Nguyen</td>\n",
       "      <td>Female</td>\n",
       "      <td>Alabama</td>\n",
       "      <td>31</td>\n",
       "      <td>2/17/2019</td>\n",
       "      <td>3</td>\n",
       "      <td>married</td>\n",
       "      <td>40423</td>\n",
       "      <td>Monday</td>\n",
       "    </tr>\n",
       "    <tr>\n",
       "      <th>1</th>\n",
       "      <td>2539329</td>\n",
       "      <td>1</td>\n",
       "      <td>1</td>\n",
       "      <td>2</td>\n",
       "      <td>8</td>\n",
       "      <td>NaN</td>\n",
       "      <td>True</td>\n",
       "      <td>14084</td>\n",
       "      <td>2.0</td>\n",
       "      <td>0.0</td>\n",
       "      <td>Organic Unsweetened Vanilla Almond Milk</td>\n",
       "      <td>91.0</td>\n",
       "      <td>16.0</td>\n",
       "      <td>12.5</td>\n",
       "      <td>both</td>\n",
       "      <td>Mid-range product</td>\n",
       "      <td>Regularly busy</td>\n",
       "      <td>Regularly busy</td>\n",
       "      <td>Average_orders</td>\n",
       "      <td>11</td>\n",
       "      <td>Regular customer</td>\n",
       "      <td>6.367797</td>\n",
       "      <td>Low Spender</td>\n",
       "      <td>20.0</td>\n",
       "      <td>Regular customer</td>\n",
       "      <td>Linda</td>\n",
       "      <td>Nguyen</td>\n",
       "      <td>Female</td>\n",
       "      <td>Alabama</td>\n",
       "      <td>31</td>\n",
       "      <td>2/17/2019</td>\n",
       "      <td>3</td>\n",
       "      <td>married</td>\n",
       "      <td>40423</td>\n",
       "      <td>Monday</td>\n",
       "    </tr>\n",
       "    <tr>\n",
       "      <th>2</th>\n",
       "      <td>2539329</td>\n",
       "      <td>1</td>\n",
       "      <td>1</td>\n",
       "      <td>2</td>\n",
       "      <td>8</td>\n",
       "      <td>NaN</td>\n",
       "      <td>True</td>\n",
       "      <td>12427</td>\n",
       "      <td>3.0</td>\n",
       "      <td>0.0</td>\n",
       "      <td>Original Beef Jerky</td>\n",
       "      <td>23.0</td>\n",
       "      <td>19.0</td>\n",
       "      <td>4.4</td>\n",
       "      <td>both</td>\n",
       "      <td>NaN</td>\n",
       "      <td>Regularly busy</td>\n",
       "      <td>Regularly busy</td>\n",
       "      <td>Average_orders</td>\n",
       "      <td>11</td>\n",
       "      <td>Regular customer</td>\n",
       "      <td>6.367797</td>\n",
       "      <td>Low Spender</td>\n",
       "      <td>20.0</td>\n",
       "      <td>Regular customer</td>\n",
       "      <td>Linda</td>\n",
       "      <td>Nguyen</td>\n",
       "      <td>Female</td>\n",
       "      <td>Alabama</td>\n",
       "      <td>31</td>\n",
       "      <td>2/17/2019</td>\n",
       "      <td>3</td>\n",
       "      <td>married</td>\n",
       "      <td>40423</td>\n",
       "      <td>Monday</td>\n",
       "    </tr>\n",
       "    <tr>\n",
       "      <th>3</th>\n",
       "      <td>2539329</td>\n",
       "      <td>1</td>\n",
       "      <td>1</td>\n",
       "      <td>2</td>\n",
       "      <td>8</td>\n",
       "      <td>NaN</td>\n",
       "      <td>True</td>\n",
       "      <td>26088</td>\n",
       "      <td>4.0</td>\n",
       "      <td>0.0</td>\n",
       "      <td>Aged White Cheddar Popcorn</td>\n",
       "      <td>23.0</td>\n",
       "      <td>19.0</td>\n",
       "      <td>4.7</td>\n",
       "      <td>both</td>\n",
       "      <td>NaN</td>\n",
       "      <td>Regularly busy</td>\n",
       "      <td>Regularly busy</td>\n",
       "      <td>Average_orders</td>\n",
       "      <td>11</td>\n",
       "      <td>Regular customer</td>\n",
       "      <td>6.367797</td>\n",
       "      <td>Low Spender</td>\n",
       "      <td>20.0</td>\n",
       "      <td>Regular customer</td>\n",
       "      <td>Linda</td>\n",
       "      <td>Nguyen</td>\n",
       "      <td>Female</td>\n",
       "      <td>Alabama</td>\n",
       "      <td>31</td>\n",
       "      <td>2/17/2019</td>\n",
       "      <td>3</td>\n",
       "      <td>married</td>\n",
       "      <td>40423</td>\n",
       "      <td>Monday</td>\n",
       "    </tr>\n",
       "    <tr>\n",
       "      <th>4</th>\n",
       "      <td>2539329</td>\n",
       "      <td>1</td>\n",
       "      <td>1</td>\n",
       "      <td>2</td>\n",
       "      <td>8</td>\n",
       "      <td>NaN</td>\n",
       "      <td>True</td>\n",
       "      <td>26405</td>\n",
       "      <td>5.0</td>\n",
       "      <td>0.0</td>\n",
       "      <td>XL Pick-A-Size Paper Towel Rolls</td>\n",
       "      <td>54.0</td>\n",
       "      <td>17.0</td>\n",
       "      <td>1.0</td>\n",
       "      <td>both</td>\n",
       "      <td>NaN</td>\n",
       "      <td>Regularly busy</td>\n",
       "      <td>Regularly busy</td>\n",
       "      <td>Average_orders</td>\n",
       "      <td>11</td>\n",
       "      <td>Regular customer</td>\n",
       "      <td>6.367797</td>\n",
       "      <td>Low Spender</td>\n",
       "      <td>20.0</td>\n",
       "      <td>Regular customer</td>\n",
       "      <td>Linda</td>\n",
       "      <td>Nguyen</td>\n",
       "      <td>Female</td>\n",
       "      <td>Alabama</td>\n",
       "      <td>31</td>\n",
       "      <td>2/17/2019</td>\n",
       "      <td>3</td>\n",
       "      <td>married</td>\n",
       "      <td>40423</td>\n",
       "      <td>Monday</td>\n",
       "    </tr>\n",
       "  </tbody>\n",
       "</table>\n",
       "</div>"
      ],
      "text/plain": [
       "   order_id  user_id  order_number  order_dow  order_hour_of_day  \\\n",
       "0   2539329        1             1          2                  8   \n",
       "1   2539329        1             1          2                  8   \n",
       "2   2539329        1             1          2                  8   \n",
       "3   2539329        1             1          2                  8   \n",
       "4   2539329        1             1          2                  8   \n",
       "\n",
       "   days_since_prior_order  first_order  product_id  add_to_cart_order  \\\n",
       "0                     NaN         True         196                1.0   \n",
       "1                     NaN         True       14084                2.0   \n",
       "2                     NaN         True       12427                3.0   \n",
       "3                     NaN         True       26088                4.0   \n",
       "4                     NaN         True       26405                5.0   \n",
       "\n",
       "   reordered                             product_name  aisle_id  \\\n",
       "0        0.0                                     Soda      77.0   \n",
       "1        0.0  Organic Unsweetened Vanilla Almond Milk      91.0   \n",
       "2        0.0                      Original Beef Jerky      23.0   \n",
       "3        0.0               Aged White Cheddar Popcorn      23.0   \n",
       "4        0.0         XL Pick-A-Size Paper Towel Rolls      54.0   \n",
       "\n",
       "   department_id  prices _merge    price_range_loc     busiest_day  \\\n",
       "0            7.0     9.0   both  Mid-range product  Regularly busy   \n",
       "1           16.0    12.5   both  Mid-range product  Regularly busy   \n",
       "2           19.0     4.4   both                NaN  Regularly busy   \n",
       "3           19.0     4.7   both                NaN  Regularly busy   \n",
       "4           17.0     1.0   both                NaN  Regularly busy   \n",
       "\n",
       "      Busiest_day Busiest_period_of_day  max_order      loyalty_flag  \\\n",
       "0  Regularly busy        Average_orders         11  Regular customer   \n",
       "1  Regularly busy        Average_orders         11  Regular customer   \n",
       "2  Regularly busy        Average_orders         11  Regular customer   \n",
       "3  Regularly busy        Average_orders         11  Regular customer   \n",
       "4  Regularly busy        Average_orders         11  Regular customer   \n",
       "\n",
       "   spending spending_flag  frequency    frequency_flag first_name Surname  \\\n",
       "0  6.367797   Low Spender       20.0  Regular customer      Linda  Nguyen   \n",
       "1  6.367797   Low Spender       20.0  Regular customer      Linda  Nguyen   \n",
       "2  6.367797   Low Spender       20.0  Regular customer      Linda  Nguyen   \n",
       "3  6.367797   Low Spender       20.0  Regular customer      Linda  Nguyen   \n",
       "4  6.367797   Low Spender       20.0  Regular customer      Linda  Nguyen   \n",
       "\n",
       "   Gender    State  Age date_joined  Number_of_dependants fam_status  income  \\\n",
       "0  Female  Alabama   31   2/17/2019                     3    married   40423   \n",
       "1  Female  Alabama   31   2/17/2019                     3    married   40423   \n",
       "2  Female  Alabama   31   2/17/2019                     3    married   40423   \n",
       "3  Female  Alabama   31   2/17/2019                     3    married   40423   \n",
       "4  Female  Alabama   31   2/17/2019                     3    married   40423   \n",
       "\n",
       "  day_of_week  \n",
       "0      Monday  \n",
       "1      Monday  \n",
       "2      Monday  \n",
       "3      Monday  \n",
       "4      Monday  "
      ]
     },
     "execution_count": 6,
     "metadata": {},
     "output_type": "execute_result"
    }
   ],
   "source": [
    "# check\n",
    "pd.options.display.max_columns = None\n",
    "df_ords_cust_merged.head()"
   ]
  },
  {
   "cell_type": "markdown",
   "id": "f85147da",
   "metadata": {},
   "source": [
    "## Question 3\n",
    "\n",
    "Create a histogram of the “order_hour_of_day” column.\n"
   ]
  },
  {
   "cell_type": "code",
   "execution_count": 7,
   "id": "48e634cb",
   "metadata": {},
   "outputs": [
    {
     "data": {
      "image/png": "[encoded data removed]",
      "text/plain": [
       "<Figure size 432x288 with 1 Axes>"
      ]
     },
     "metadata": {
      "needs_background": "light"
     },
     "output_type": "display_data"
    }
   ],
   "source": [
    "# creating a histogram\n",
    "hist = df_ords_cust_merged['order_hour_of_day'].plot.hist(bins = 25)"
   ]
  },
  {
   "cell_type": "code",
   "execution_count": 8,
   "id": "577a346d",
   "metadata": {},
   "outputs": [
    {
     "data": {
      "image/png": "[encoded data removed]",
      "text/plain": [
       "<Figure size 432x288 with 1 Axes>"
      ]
     },
     "metadata": {
      "needs_background": "light"
     },
     "output_type": "display_data"
    }
   ],
   "source": [
    "# histogram with more bins\n",
    "hist_2 = df_ords_cust_merged['order_hour_of_day'].plot.hist(bins = 20)"
   ]
  },
  {
   "cell_type": "code",
   "execution_count": 9,
   "id": "03a89bc3",
   "metadata": {},
   "outputs": [
    {
     "data": {
      "image/png": "[encoded data removed]",
      "text/plain": [
       "<Figure size 432x288 with 1 Axes>"
      ]
     },
     "metadata": {
      "needs_background": "light"
     },
     "output_type": "display_data"
    }
   ],
   "source": [
    "# histogram with more bins\n",
    "hist_3 = df_ords_cust_merged['order_hour_of_day'].plot.hist(bins = 50)"
   ]
  },
  {
   "cell_type": "code",
   "execution_count": 10,
   "id": "7bed15de",
   "metadata": {},
   "outputs": [
    {
     "data": {
      "image/png": "[encoded data removed]",
      "text/plain": [
       "<Figure size 432x288 with 1 Axes>"
      ]
     },
     "metadata": {
      "needs_background": "light"
     },
     "output_type": "display_data"
    }
   ],
   "source": [
    "# histogram with more bins\n",
    "hist_4 = df_ords_cust_merged['order_hour_of_day'].plot.hist(bins = 75)"
   ]
  },
  {
   "cell_type": "markdown",
   "id": "2d5254df",
   "metadata": {},
   "source": [
    "The smallest order quantity is between 24 and 7 am. Then the number of orders increases to 10 o'clock. Between 10 am and 3 pm the number of orders is the highest. Then it goes down."
   ]
  },
  {
   "cell_type": "code",
   "execution_count": 12,
   "id": "d1c9c923",
   "metadata": {},
   "outputs": [],
   "source": [
    "# exporting histogram\n",
    "hist_4.figure.savefig(os.path.join(path, '04 Analysis','Visualizations', 'hist_4_merged.png'))"
   ]
  },
  {
   "cell_type": "markdown",
   "id": "65a5f7ed",
   "metadata": {},
   "source": [
    "## Question 4\n",
    "\n",
    "Create a bar chart from the “loyalty_flag” column.\n"
   ]
  },
  {
   "cell_type": "code",
   "execution_count": 14,
   "id": "9a402114",
   "metadata": {},
   "outputs": [
    {
     "data": {
      "image/png": "[encoded data removed]",
      "text/plain": [
       "<Figure size 432x288 with 1 Axes>"
      ]
     },
     "metadata": {
      "needs_background": "light"
     },
     "output_type": "display_data"
    }
   ],
   "source": [
    "# bar chart\n",
    "bar = df_ords_cust_merged ['loyalty_flag'].value_counts().plot.bar()"
   ]
  },
  {
   "cell_type": "code",
   "execution_count": 15,
   "id": "f105e341",
   "metadata": {},
   "outputs": [],
   "source": [
    "# exporting bar chart\n",
    "bar.figure.savefig(os.path.join(path, '04 Analysis','Visualizations', 'loyalty_flag_merged'))"
   ]
  },
  {
   "cell_type": "markdown",
   "id": "9ac2f425",
   "metadata": {},
   "source": [
    "## Question 5\n",
    "\n",
    "Check whether there’s a difference in expenditure (the “prices” column) depending on the hour of the day.\n"
   ]
  },
  {
   "cell_type": "code",
   "execution_count": 17,
   "id": "0a206388",
   "metadata": {},
   "outputs": [
    {
     "data": {
      "image/png": "[encoded data removed]",
      "text/plain": [
       "<Figure size 432x288 with 1 Axes>"
      ]
     },
     "metadata": {
      "needs_background": "light"
     },
     "output_type": "display_data"
    }
   ],
   "source": [
    "line_2 = sns.lineplot(data = df_ords_cust_merged , x = 'order_hour_of_day', y = 'prices')"
   ]
  },
  {
   "cell_type": "code",
   "execution_count": 19,
   "id": "36dc3890",
   "metadata": {},
   "outputs": [],
   "source": [
    "# exporting\n",
    "line_2.figure.savefig(os.path.join(path, '04 Analysis', 'Visualizations','order_prices.png'))"
   ]
  },
  {
   "cell_type": "markdown",
   "id": "6d47aa6a",
   "metadata": {},
   "source": [
    "## Question 6\n",
    "\n",
    "First, determine whether there’s a connection between age and family status by creating a line chart exploring the connections between age and number of dependents:\n"
   ]
  },
  {
   "cell_type": "code",
   "execution_count": 21,
   "id": "3028f58f",
   "metadata": {},
   "outputs": [
    {
     "ename": "AttributeError",
     "evalue": "'function' object has no attribute 'loc'",
     "output_type": "error",
     "traceback": [
      "\u001b[1;31m---------------------------------------------------------------------------\u001b[0m",
      "\u001b[1;31mAttributeError\u001b[0m                            Traceback (most recent call last)",
      "\u001b[1;32m~\\AppData\\Local\\Temp/ipykernel_2760/48343294.py\u001b[0m in \u001b[0;36m<module>\u001b[1;34m\u001b[0m\n\u001b[1;32m----> 1\u001b[1;33m \u001b[0mline\u001b[0m \u001b[1;33m=\u001b[0m \u001b[0msns\u001b[0m\u001b[1;33m.\u001b[0m\u001b[0mlineplot\u001b[0m\u001b[1;33m.\u001b[0m\u001b[0mloc\u001b[0m\u001b[1;33m(\u001b[0m\u001b[0mdata\u001b[0m \u001b[1;33m=\u001b[0m \u001b[0mdf_ords_cust_merged\u001b[0m \u001b[1;33m,\u001b[0m\u001b[0mx\u001b[0m \u001b[1;33m=\u001b[0m \u001b[1;34m'Age'\u001b[0m\u001b[1;33m,\u001b[0m \u001b[0my\u001b[0m \u001b[1;33m=\u001b[0m \u001b[1;34m'Number_of_dependants'\u001b[0m\u001b[1;33m)\u001b[0m\u001b[1;33m\u001b[0m\u001b[1;33m\u001b[0m\u001b[0m\n\u001b[0m",
      "\u001b[1;31mAttributeError\u001b[0m: 'function' object has no attribute 'loc'"
     ]
    }
   ],
   "source": [
    "line = sns.lineplot(data = df_ords_cust_merged ,x = 'Age', y = 'Number_of_dependants')"
   ]
  },
  {
   "cell_type": "code",
   "execution_count": null,
   "id": "9588260d",
   "metadata": {},
   "outputs": [],
   "source": [
    "# exporting\n",
    "line.figure.savefig(os.path.join(path, '04 Analysis', 'Visualizations','Age_NofD.png'))"
   ]
  },
  {
   "cell_type": "markdown",
   "id": "bec59f80",
   "metadata": {},
   "source": [
    " I don't see connection beetween age and number of dependands\n",
    " "
   ]
  },
  {
   "cell_type": "markdown",
   "id": "215c2926",
   "metadata": {},
   "source": [
    "## Question 7\n",
    "\n",
    "Connection between age and spending power. To visualize this relationship, create a scatterplot using the sns.scatterplot() function.\n"
   ]
  },
  {
   "cell_type": "code",
   "execution_count": null,
   "id": "3bcc286d",
   "metadata": {},
   "outputs": [],
   "source": [
    "scatter = sns.scatterplot(x = 'Age', y = 'income', data = df_ords_cust_merged)"
   ]
  },
  {
   "cell_type": "code",
   "execution_count": null,
   "id": "723a1414",
   "metadata": {},
   "outputs": [],
   "source": [
    "Higher income usually appears in group of people in age 40-80.People of this age have better paid jobs, secured carreer, and experience,so they might be treated as specialists and get better pay than younger group of people"
   ]
  },
  {
   "cell_type": "code",
   "execution_count": null,
   "id": "5d9795be",
   "metadata": {},
   "outputs": [],
   "source": [
    "# exporting \n",
    "scatter.figure.savefig(os.path.join(path, '04 Analysis', 'Visualizations','Income_ords'))"
   ]
  }
 ],
 "metadata": {
  "kernelspec": {
   "display_name": "Python 3 (ipykernel)",
   "language": "python",
   "name": "python3"
  },
  "language_info": {
   "codemirror_mode": {
    "name": "ipython",
    "version": 3
   },
   "file_extension": ".py",
   "mimetype": "text/x-python",
   "name": "python",
   "nbconvert_exporter": "python",
   "pygments_lexer": "ipython3",
   "version": "3.9.7"
  }
 },
 "nbformat": 4,
 "nbformat_minor": 5
}
