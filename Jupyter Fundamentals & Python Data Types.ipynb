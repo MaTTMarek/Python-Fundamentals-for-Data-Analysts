{
 "cells": [
  {
   "cell_type": "code",
   "execution_count": 1,
   "id": "d6588061",
   "metadata": {},
   "outputs": [],
   "source": [
    "# Import libraries\n",
    "import pandas as pd\n",
    "import numpy as np\n",
    "import os"
   ]
  },
  {
   "cell_type": "code",
   "execution_count": null,
   "id": "7b7fb9ad",
   "metadata": {},
   "outputs": [],
   "source": [
    "# Different data types"
   ]
  },
  {
   "cell_type": "code",
   "execution_count": 2,
   "id": "0f944be1",
   "metadata": {},
   "outputs": [],
   "source": [
    "x = 75"
   ]
  },
  {
   "cell_type": "code",
   "execution_count": 3,
   "id": "14589e15",
   "metadata": {},
   "outputs": [],
   "source": [
    "y = 25"
   ]
  },
  {
   "cell_type": "code",
   "execution_count": 4,
   "id": "945f532a",
   "metadata": {},
   "outputs": [],
   "source": [
    "z = 50"
   ]
  },
  {
   "cell_type": "code",
   "execution_count": 5,
   "id": "4b0e924b",
   "metadata": {},
   "outputs": [
    {
     "data": {
      "text/plain": [
       "100"
      ]
     },
     "execution_count": 5,
     "metadata": {},
     "output_type": "execute_result"
    }
   ],
   "source": [
    "x+z-y"
   ]
  },
  {
   "cell_type": "code",
   "execution_count": 6,
   "id": "0035fd7f",
   "metadata": {},
   "outputs": [
    {
     "data": {
      "text/plain": [
       "100"
      ]
     },
     "execution_count": 6,
     "metadata": {},
     "output_type": "execute_result"
    }
   ],
   "source": [
    "x+y"
   ]
  },
  {
   "cell_type": "code",
   "execution_count": 7,
   "id": "e3c5d5e4",
   "metadata": {},
   "outputs": [
    {
     "data": {
      "text/plain": [
       "100"
      ]
     },
     "execution_count": 7,
     "metadata": {},
     "output_type": "execute_result"
    }
   ],
   "source": [
    "z+z"
   ]
  },
  {
   "cell_type": "code",
   "execution_count": 8,
   "id": "311309e7",
   "metadata": {},
   "outputs": [],
   "source": [
    "a = 2.25"
   ]
  },
  {
   "cell_type": "code",
   "execution_count": 9,
   "id": "7edb4881",
   "metadata": {},
   "outputs": [],
   "source": [
    "b = 1.03"
   ]
  },
  {
   "cell_type": "code",
   "execution_count": 10,
   "id": "e0743ac0",
   "metadata": {},
   "outputs": [
    {
     "data": {
      "text/plain": [
       "2.1844660194174756"
      ]
     },
     "execution_count": 10,
     "metadata": {},
     "output_type": "execute_result"
    }
   ],
   "source": [
    "a/b"
   ]
  },
  {
   "cell_type": "code",
   "execution_count": 11,
   "id": "cd621759",
   "metadata": {},
   "outputs": [
    {
     "data": {
      "text/plain": [
       "0.4577777777777778"
      ]
     },
     "execution_count": 11,
     "metadata": {},
     "output_type": "execute_result"
    }
   ],
   "source": [
    "b/a"
   ]
  },
  {
   "cell_type": "code",
   "execution_count": 12,
   "id": "a86225e1",
   "metadata": {},
   "outputs": [
    {
     "data": {
      "text/plain": [
       "float"
      ]
     },
     "execution_count": 12,
     "metadata": {},
     "output_type": "execute_result"
    }
   ],
   "source": [
    "type(b/a)"
   ]
  },
  {
   "cell_type": "code",
   "execution_count": 13,
   "id": "309384bf",
   "metadata": {},
   "outputs": [],
   "source": [
    "c = 'Cross'"
   ]
  },
  {
   "cell_type": "code",
   "execution_count": 14,
   "id": "1dcf259d",
   "metadata": {},
   "outputs": [],
   "source": [
    "d = 'Fit'"
   ]
  },
  {
   "cell_type": "code",
   "execution_count": 15,
   "id": "bb721fca",
   "metadata": {},
   "outputs": [
    {
     "data": {
      "text/plain": [
       "'CrossFit'"
      ]
     },
     "execution_count": 15,
     "metadata": {},
     "output_type": "execute_result"
    }
   ],
   "source": [
    "c+d"
   ]
  },
  {
   "cell_type": "code",
   "execution_count": 16,
   "id": "0649b0f6",
   "metadata": {},
   "outputs": [],
   "source": [
    "e = 'Does'"
   ]
  },
  {
   "cell_type": "code",
   "execution_count": 24,
   "id": "c7cd81f2",
   "metadata": {},
   "outputs": [],
   "source": [
    "f = ' the snake'"
   ]
  },
  {
   "cell_type": "code",
   "execution_count": 33,
   "id": "45d3457c",
   "metadata": {},
   "outputs": [],
   "source": [
    "g = ' like'"
   ]
  },
  {
   "cell_type": "code",
   "execution_count": 32,
   "id": "beccbc1b",
   "metadata": {},
   "outputs": [],
   "source": [
    "h = ' cheaps?'"
   ]
  },
  {
   "cell_type": "code",
   "execution_count": 30,
   "id": "f1b2970b",
   "metadata": {},
   "outputs": [],
   "source": [
    "i = 'I dont'"
   ]
  },
  {
   "cell_type": "code",
   "execution_count": 29,
   "id": "4230bd34",
   "metadata": {},
   "outputs": [],
   "source": [
    "j = ' know'"
   ]
  },
  {
   "cell_type": "code",
   "execution_count": 34,
   "id": "38c21d7f",
   "metadata": {},
   "outputs": [
    {
     "data": {
      "text/plain": [
       "'Does the snake like cheaps?I dont know'"
      ]
     },
     "execution_count": 34,
     "metadata": {},
     "output_type": "execute_result"
    }
   ],
   "source": [
    "e+f+g+h+i+j"
   ]
  },
  {
   "cell_type": "code",
   "execution_count": null,
   "id": "fadb3df6",
   "metadata": {},
   "outputs": [],
   "source": []
  }
 ],
 "metadata": {
  "kernelspec": {
   "display_name": "Python 3 (ipykernel)",
   "language": "python",
   "name": "python3"
  },
  "language_info": {
   "codemirror_mode": {
    "name": "ipython",
    "version": 3
   },
   "file_extension": ".py",
   "mimetype": "text/x-python",
   "name": "python",
   "nbconvert_exporter": "python",
   "pygments_lexer": "ipython3",
   "version": "3.9.7"
  }
 },
 "nbformat": 4,
 "nbformat_minor": 5
}
