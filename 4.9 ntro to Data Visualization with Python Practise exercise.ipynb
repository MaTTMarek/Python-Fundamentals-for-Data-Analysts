{
 "cells": [
  {
   "cell_type": "code",
   "execution_count": 1,
   "id": "2fa1631d",
   "metadata": {},
   "outputs": [],
   "source": [
    "# importing libraries\n",
    "import pandas as pd\n",
    "import numpy as np\n",
    "import os\n",
    "import matplotlib.pyplot as plt\n",
    "import seaborn as sns\n",
    "import scipy"
   ]
  },
  {
   "cell_type": "code",
   "execution_count": 4,
   "id": "ba4a58ff",
   "metadata": {},
   "outputs": [],
   "source": [
    "# import dataset\n",
    "ords_prods_merge= pd.read_pickle(r'C:\\Users\\mateu\\Desktop\\Master_Folder\\02 Data\\Prepared Data\\orders_prods_merged.pkl')"
   ]
  },
  {
   "cell_type": "code",
   "execution_count": 5,
   "id": "f69656f4",
   "metadata": {},
   "outputs": [],
   "source": [
    "# path\n",
    "path = r'C:\\Users\\mateu\\Desktop\\Master_Folder'"
   ]
  },
  {
   "cell_type": "code",
   "execution_count": 6,
   "id": "ae8b1c8b",
   "metadata": {},
   "outputs": [
    {
     "data": {
      "text/html": [
       "<div>\n",
       "<style scoped>\n",
       "    .dataframe tbody tr th:only-of-type {\n",
       "        vertical-align: middle;\n",
       "    }\n",
       "\n",
       "    .dataframe tbody tr th {\n",
       "        vertical-align: top;\n",
       "    }\n",
       "\n",
       "    .dataframe thead th {\n",
       "        text-align: right;\n",
       "    }\n",
       "</style>\n",
       "<table border=\"1\" class=\"dataframe\">\n",
       "  <thead>\n",
       "    <tr style=\"text-align: right;\">\n",
       "      <th></th>\n",
       "      <th>order_id</th>\n",
       "      <th>user_id</th>\n",
       "      <th>order_number</th>\n",
       "      <th>order_dow</th>\n",
       "      <th>order_hour_of_day</th>\n",
       "      <th>days_since_prior_order</th>\n",
       "      <th>first_order</th>\n",
       "      <th>product_id</th>\n",
       "      <th>add_to_cart_order</th>\n",
       "      <th>reordered</th>\n",
       "      <th>...</th>\n",
       "      <th>price_range_loc</th>\n",
       "      <th>busiest_day</th>\n",
       "      <th>Busiest_day</th>\n",
       "      <th>Busiest_period_of_day</th>\n",
       "      <th>max_order</th>\n",
       "      <th>loyalty_flag</th>\n",
       "      <th>spending</th>\n",
       "      <th>spending_flag</th>\n",
       "      <th>frequency</th>\n",
       "      <th>frequency_flag</th>\n",
       "    </tr>\n",
       "  </thead>\n",
       "  <tbody>\n",
       "    <tr>\n",
       "      <th>0</th>\n",
       "      <td>2539329</td>\n",
       "      <td>1</td>\n",
       "      <td>1</td>\n",
       "      <td>2</td>\n",
       "      <td>8</td>\n",
       "      <td>NaN</td>\n",
       "      <td>True</td>\n",
       "      <td>196</td>\n",
       "      <td>1.0</td>\n",
       "      <td>0.0</td>\n",
       "      <td>...</td>\n",
       "      <td>Mid-range product</td>\n",
       "      <td>Regularly busy</td>\n",
       "      <td>Regularly busy</td>\n",
       "      <td>Average_orders</td>\n",
       "      <td>11</td>\n",
       "      <td>Regular customer</td>\n",
       "      <td>6.367797</td>\n",
       "      <td>Low Spender</td>\n",
       "      <td>20.0</td>\n",
       "      <td>Regular customer</td>\n",
       "    </tr>\n",
       "    <tr>\n",
       "      <th>1</th>\n",
       "      <td>2539329</td>\n",
       "      <td>1</td>\n",
       "      <td>1</td>\n",
       "      <td>2</td>\n",
       "      <td>8</td>\n",
       "      <td>NaN</td>\n",
       "      <td>True</td>\n",
       "      <td>14084</td>\n",
       "      <td>2.0</td>\n",
       "      <td>0.0</td>\n",
       "      <td>...</td>\n",
       "      <td>Mid-range product</td>\n",
       "      <td>Regularly busy</td>\n",
       "      <td>Regularly busy</td>\n",
       "      <td>Average_orders</td>\n",
       "      <td>11</td>\n",
       "      <td>Regular customer</td>\n",
       "      <td>6.367797</td>\n",
       "      <td>Low Spender</td>\n",
       "      <td>20.0</td>\n",
       "      <td>Regular customer</td>\n",
       "    </tr>\n",
       "    <tr>\n",
       "      <th>2</th>\n",
       "      <td>2539329</td>\n",
       "      <td>1</td>\n",
       "      <td>1</td>\n",
       "      <td>2</td>\n",
       "      <td>8</td>\n",
       "      <td>NaN</td>\n",
       "      <td>True</td>\n",
       "      <td>12427</td>\n",
       "      <td>3.0</td>\n",
       "      <td>0.0</td>\n",
       "      <td>...</td>\n",
       "      <td>NaN</td>\n",
       "      <td>Regularly busy</td>\n",
       "      <td>Regularly busy</td>\n",
       "      <td>Average_orders</td>\n",
       "      <td>11</td>\n",
       "      <td>Regular customer</td>\n",
       "      <td>6.367797</td>\n",
       "      <td>Low Spender</td>\n",
       "      <td>20.0</td>\n",
       "      <td>Regular customer</td>\n",
       "    </tr>\n",
       "    <tr>\n",
       "      <th>3</th>\n",
       "      <td>2539329</td>\n",
       "      <td>1</td>\n",
       "      <td>1</td>\n",
       "      <td>2</td>\n",
       "      <td>8</td>\n",
       "      <td>NaN</td>\n",
       "      <td>True</td>\n",
       "      <td>26088</td>\n",
       "      <td>4.0</td>\n",
       "      <td>0.0</td>\n",
       "      <td>...</td>\n",
       "      <td>NaN</td>\n",
       "      <td>Regularly busy</td>\n",
       "      <td>Regularly busy</td>\n",
       "      <td>Average_orders</td>\n",
       "      <td>11</td>\n",
       "      <td>Regular customer</td>\n",
       "      <td>6.367797</td>\n",
       "      <td>Low Spender</td>\n",
       "      <td>20.0</td>\n",
       "      <td>Regular customer</td>\n",
       "    </tr>\n",
       "    <tr>\n",
       "      <th>4</th>\n",
       "      <td>2539329</td>\n",
       "      <td>1</td>\n",
       "      <td>1</td>\n",
       "      <td>2</td>\n",
       "      <td>8</td>\n",
       "      <td>NaN</td>\n",
       "      <td>True</td>\n",
       "      <td>26405</td>\n",
       "      <td>5.0</td>\n",
       "      <td>0.0</td>\n",
       "      <td>...</td>\n",
       "      <td>NaN</td>\n",
       "      <td>Regularly busy</td>\n",
       "      <td>Regularly busy</td>\n",
       "      <td>Average_orders</td>\n",
       "      <td>11</td>\n",
       "      <td>Regular customer</td>\n",
       "      <td>6.367797</td>\n",
       "      <td>Low Spender</td>\n",
       "      <td>20.0</td>\n",
       "      <td>Regular customer</td>\n",
       "    </tr>\n",
       "  </tbody>\n",
       "</table>\n",
       "<p>5 rows × 25 columns</p>\n",
       "</div>"
      ],
      "text/plain": [
       "   order_id  user_id  order_number  order_dow  order_hour_of_day  \\\n",
       "0   2539329        1             1          2                  8   \n",
       "1   2539329        1             1          2                  8   \n",
       "2   2539329        1             1          2                  8   \n",
       "3   2539329        1             1          2                  8   \n",
       "4   2539329        1             1          2                  8   \n",
       "\n",
       "   days_since_prior_order  first_order  product_id  add_to_cart_order  \\\n",
       "0                     NaN         True         196                1.0   \n",
       "1                     NaN         True       14084                2.0   \n",
       "2                     NaN         True       12427                3.0   \n",
       "3                     NaN         True       26088                4.0   \n",
       "4                     NaN         True       26405                5.0   \n",
       "\n",
       "   reordered  ...    price_range_loc     busiest_day     Busiest_day  \\\n",
       "0        0.0  ...  Mid-range product  Regularly busy  Regularly busy   \n",
       "1        0.0  ...  Mid-range product  Regularly busy  Regularly busy   \n",
       "2        0.0  ...                NaN  Regularly busy  Regularly busy   \n",
       "3        0.0  ...                NaN  Regularly busy  Regularly busy   \n",
       "4        0.0  ...                NaN  Regularly busy  Regularly busy   \n",
       "\n",
       "   Busiest_period_of_day max_order      loyalty_flag  spending spending_flag  \\\n",
       "0         Average_orders        11  Regular customer  6.367797   Low Spender   \n",
       "1         Average_orders        11  Regular customer  6.367797   Low Spender   \n",
       "2         Average_orders        11  Regular customer  6.367797   Low Spender   \n",
       "3         Average_orders        11  Regular customer  6.367797   Low Spender   \n",
       "4         Average_orders        11  Regular customer  6.367797   Low Spender   \n",
       "\n",
       "  frequency    frequency_flag  \n",
       "0      20.0  Regular customer  \n",
       "1      20.0  Regular customer  \n",
       "2      20.0  Regular customer  \n",
       "3      20.0  Regular customer  \n",
       "4      20.0  Regular customer  \n",
       "\n",
       "[5 rows x 25 columns]"
      ]
     },
     "execution_count": 6,
     "metadata": {},
     "output_type": "execute_result"
    }
   ],
   "source": [
    "# check\n",
    "ords_prods_merge.head()"
   ]
  },
  {
   "cell_type": "code",
   "execution_count": 7,
   "id": "5860d1ea",
   "metadata": {},
   "outputs": [
    {
     "data": {
      "text/plain": [
       "<AxesSubplot:>"
      ]
     },
     "execution_count": 7,
     "metadata": {},
     "output_type": "execute_result"
    },
    {
     "data": {
      "image/png": "[encoded data removed]",
      "text/plain": [
       "<Figure size 432x288 with 1 Axes>"
      ]
     },
     "metadata": {
      "needs_background": "light"
     },
     "output_type": "display_data"
    }
   ],
   "source": [
    "# create a bar chart\n",
    "ords_prods_merge['order_dow'].value_counts().plot.bar(color=['purple','red','blue','green','yellow','black','pink'])"
   ]
  },
  {
   "cell_type": "code",
   "execution_count": 8,
   "id": "a91ca7f8",
   "metadata": {},
   "outputs": [
    {
     "data": {
      "image/png": "[encoded data removed]",
      "text/plain": [
       "<Figure size 432x288 with 1 Axes>"
      ]
     },
     "metadata": {
      "needs_background": "light"
     },
     "output_type": "display_data"
    }
   ],
   "source": [
    "# saving the result\n",
    "bar = ords_prods_merge['order_dow'].value_counts().plot.bar(color =['purple', 'red', 'pink', 'orange', 'yellow', 'green', 'blue'])"
   ]
  },
  {
   "cell_type": "code",
   "execution_count": 9,
   "id": "3a28bd88",
   "metadata": {},
   "outputs": [],
   "source": [
    "#saving\n",
    "bar.figure.savefig(os.path.join(path, '04 Analysis','Visualizations', 'bar_orders_dow.png'))"
   ]
  },
  {
   "cell_type": "code",
   "execution_count": 10,
   "id": "985e07e4",
   "metadata": {},
   "outputs": [
    {
     "data": {
      "text/plain": [
       "<AxesSubplot:ylabel='Frequency'>"
      ]
     },
     "execution_count": 10,
     "metadata": {},
     "output_type": "execute_result"
    },
    {
     "data": {
      "image/png": "[encoded data removed]",
      "text/plain": [
       "<Figure size 432x288 with 1 Axes>"
      ]
     },
     "metadata": {
      "needs_background": "light"
     },
     "output_type": "display_data"
    }
   ],
   "source": [
    "# creating the histogram\n",
    "ords_prods_merge['prices'].plot.hist(bins = 25)"
   ]
  },
  {
   "cell_type": "code",
   "execution_count": 11,
   "id": "83fc994b",
   "metadata": {},
   "outputs": [
    {
     "data": {
      "text/plain": [
       "count    3.240486e+07\n",
       "mean     1.198023e+01\n",
       "std      4.956554e+02\n",
       "min      1.000000e+00\n",
       "25%      4.200000e+00\n",
       "50%      7.400000e+00\n",
       "75%      1.130000e+01\n",
       "max      9.999900e+04\n",
       "Name: prices, dtype: float64"
      ]
     },
     "execution_count": 11,
     "metadata": {},
     "output_type": "execute_result"
    }
   ],
   "source": [
    "ords_prods_merge['prices'].describe()"
   ]
  },
  {
   "cell_type": "code",
   "execution_count": 12,
   "id": "1b19f8bc",
   "metadata": {},
   "outputs": [
    {
     "data": {
      "text/plain": [
       "99999.0"
      ]
     },
     "execution_count": 12,
     "metadata": {},
     "output_type": "execute_result"
    }
   ],
   "source": [
    "ords_prods_merge['prices'].max()"
   ]
  },
  {
   "cell_type": "code",
   "execution_count": 13,
   "id": "855e8668",
   "metadata": {},
   "outputs": [
    {
     "data": {
      "text/plain": [
       "1.0"
      ]
     },
     "execution_count": 13,
     "metadata": {},
     "output_type": "execute_result"
    }
   ],
   "source": [
    "ords_prods_merge['prices'].min()"
   ]
  },
  {
   "cell_type": "code",
   "execution_count": 14,
   "id": "32aeed4a",
   "metadata": {},
   "outputs": [
    {
     "data": {
      "text/plain": [
       "11.980225638676366"
      ]
     },
     "execution_count": 14,
     "metadata": {},
     "output_type": "execute_result"
    }
   ],
   "source": [
    "ords_prods_merge['prices'].mean()"
   ]
  },
  {
   "cell_type": "code",
   "execution_count": 15,
   "id": "0f350a77",
   "metadata": {},
   "outputs": [
    {
     "data": {
      "text/plain": [
       "<AxesSubplot:xlabel='prices', ylabel='prices'>"
      ]
     },
     "execution_count": 15,
     "metadata": {},
     "output_type": "execute_result"
    },
    {
     "data": {
      "image/png": "[encoded data removed]",
      "text/plain": [
       "<Figure size 432x288 with 1 Axes>"
      ]
     },
     "metadata": {
      "needs_background": "light"
     },
     "output_type": "display_data"
    }
   ],
   "source": [
    "# scareplot\n",
    "sns.scatterplot(x = 'prices', y = 'prices',data = ords_prods_merge)"
   ]
  },
  {
   "cell_type": "code",
   "execution_count": 16,
   "id": "5b4f1e57",
   "metadata": {},
   "outputs": [
    {
     "data": {
      "text/html": [
       "<div>\n",
       "<style scoped>\n",
       "    .dataframe tbody tr th:only-of-type {\n",
       "        vertical-align: middle;\n",
       "    }\n",
       "\n",
       "    .dataframe tbody tr th {\n",
       "        vertical-align: top;\n",
       "    }\n",
       "\n",
       "    .dataframe thead th {\n",
       "        text-align: right;\n",
       "    }\n",
       "</style>\n",
       "<table border=\"1\" class=\"dataframe\">\n",
       "  <thead>\n",
       "    <tr style=\"text-align: right;\">\n",
       "      <th></th>\n",
       "      <th>order_id</th>\n",
       "      <th>user_id</th>\n",
       "      <th>order_number</th>\n",
       "      <th>order_dow</th>\n",
       "      <th>order_hour_of_day</th>\n",
       "      <th>days_since_prior_order</th>\n",
       "      <th>first_order</th>\n",
       "      <th>product_id</th>\n",
       "      <th>add_to_cart_order</th>\n",
       "      <th>reordered</th>\n",
       "      <th>...</th>\n",
       "      <th>price_range_loc</th>\n",
       "      <th>busiest_day</th>\n",
       "      <th>Busiest_day</th>\n",
       "      <th>Busiest_period_of_day</th>\n",
       "      <th>max_order</th>\n",
       "      <th>loyalty_flag</th>\n",
       "      <th>spending</th>\n",
       "      <th>spending_flag</th>\n",
       "      <th>frequency</th>\n",
       "      <th>frequency_flag</th>\n",
       "    </tr>\n",
       "  </thead>\n",
       "  <tbody>\n",
       "    <tr>\n",
       "      <th>1592</th>\n",
       "      <td>912404</td>\n",
       "      <td>17</td>\n",
       "      <td>12</td>\n",
       "      <td>2</td>\n",
       "      <td>14</td>\n",
       "      <td>5.0</td>\n",
       "      <td>False</td>\n",
       "      <td>21553</td>\n",
       "      <td>5.0</td>\n",
       "      <td>0.0</td>\n",
       "      <td>...</td>\n",
       "      <td>NaN</td>\n",
       "      <td>Regularly busy</td>\n",
       "      <td>Regularly busy</td>\n",
       "      <td>Most_orders</td>\n",
       "      <td>41</td>\n",
       "      <td>Loyal customer</td>\n",
       "      <td>108.648299</td>\n",
       "      <td>High Spender</td>\n",
       "      <td>5.0</td>\n",
       "      <td>Frequent customer</td>\n",
       "    </tr>\n",
       "    <tr>\n",
       "      <th>1654</th>\n",
       "      <td>603376</td>\n",
       "      <td>17</td>\n",
       "      <td>22</td>\n",
       "      <td>6</td>\n",
       "      <td>16</td>\n",
       "      <td>4.0</td>\n",
       "      <td>False</td>\n",
       "      <td>21553</td>\n",
       "      <td>3.0</td>\n",
       "      <td>1.0</td>\n",
       "      <td>...</td>\n",
       "      <td>NaN</td>\n",
       "      <td>Regularly busy</td>\n",
       "      <td>Regularly busy</td>\n",
       "      <td>Most_orders</td>\n",
       "      <td>41</td>\n",
       "      <td>Loyal customer</td>\n",
       "      <td>108.648299</td>\n",
       "      <td>High Spender</td>\n",
       "      <td>5.0</td>\n",
       "      <td>Frequent customer</td>\n",
       "    </tr>\n",
       "    <tr>\n",
       "      <th>16668</th>\n",
       "      <td>3264360</td>\n",
       "      <td>135</td>\n",
       "      <td>2</td>\n",
       "      <td>2</td>\n",
       "      <td>21</td>\n",
       "      <td>13.0</td>\n",
       "      <td>False</td>\n",
       "      <td>21553</td>\n",
       "      <td>6.0</td>\n",
       "      <td>0.0</td>\n",
       "      <td>...</td>\n",
       "      <td>NaN</td>\n",
       "      <td>Regularly busy</td>\n",
       "      <td>Regularly busy</td>\n",
       "      <td>Most_orders</td>\n",
       "      <td>5</td>\n",
       "      <td>New customer</td>\n",
       "      <td>1154.792308</td>\n",
       "      <td>High Spender</td>\n",
       "      <td>12.0</td>\n",
       "      <td>Regular customer</td>\n",
       "    </tr>\n",
       "    <tr>\n",
       "      <th>16674</th>\n",
       "      <td>892534</td>\n",
       "      <td>135</td>\n",
       "      <td>3</td>\n",
       "      <td>0</td>\n",
       "      <td>8</td>\n",
       "      <td>12.0</td>\n",
       "      <td>False</td>\n",
       "      <td>21553</td>\n",
       "      <td>3.0</td>\n",
       "      <td>1.0</td>\n",
       "      <td>...</td>\n",
       "      <td>NaN</td>\n",
       "      <td>Busiest day</td>\n",
       "      <td>Busiest_days</td>\n",
       "      <td>Average_orders</td>\n",
       "      <td>5</td>\n",
       "      <td>New customer</td>\n",
       "      <td>1154.792308</td>\n",
       "      <td>High Spender</td>\n",
       "      <td>12.0</td>\n",
       "      <td>Regular customer</td>\n",
       "    </tr>\n",
       "    <tr>\n",
       "      <th>54053</th>\n",
       "      <td>229704</td>\n",
       "      <td>342</td>\n",
       "      <td>8</td>\n",
       "      <td>1</td>\n",
       "      <td>19</td>\n",
       "      <td>30.0</td>\n",
       "      <td>False</td>\n",
       "      <td>21553</td>\n",
       "      <td>9.0</td>\n",
       "      <td>0.0</td>\n",
       "      <td>...</td>\n",
       "      <td>NaN</td>\n",
       "      <td>Regularly busy</td>\n",
       "      <td>Busiest_days</td>\n",
       "      <td>Most_orders</td>\n",
       "      <td>17</td>\n",
       "      <td>Regular customer</td>\n",
       "      <td>114.426619</td>\n",
       "      <td>High Spender</td>\n",
       "      <td>23.0</td>\n",
       "      <td>Non-frequent customer</td>\n",
       "    </tr>\n",
       "    <tr>\n",
       "      <th>...</th>\n",
       "      <td>...</td>\n",
       "      <td>...</td>\n",
       "      <td>...</td>\n",
       "      <td>...</td>\n",
       "      <td>...</td>\n",
       "      <td>...</td>\n",
       "      <td>...</td>\n",
       "      <td>...</td>\n",
       "      <td>...</td>\n",
       "      <td>...</td>\n",
       "      <td>...</td>\n",
       "      <td>...</td>\n",
       "      <td>...</td>\n",
       "      <td>...</td>\n",
       "      <td>...</td>\n",
       "      <td>...</td>\n",
       "      <td>...</td>\n",
       "      <td>...</td>\n",
       "      <td>...</td>\n",
       "      <td>...</td>\n",
       "      <td>...</td>\n",
       "    </tr>\n",
       "    <tr>\n",
       "      <th>32556283</th>\n",
       "      <td>3172853</td>\n",
       "      <td>205650</td>\n",
       "      <td>18</td>\n",
       "      <td>1</td>\n",
       "      <td>9</td>\n",
       "      <td>7.0</td>\n",
       "      <td>False</td>\n",
       "      <td>21553</td>\n",
       "      <td>17.0</td>\n",
       "      <td>1.0</td>\n",
       "      <td>...</td>\n",
       "      <td>NaN</td>\n",
       "      <td>Regularly busy</td>\n",
       "      <td>Busiest_days</td>\n",
       "      <td>Most_orders</td>\n",
       "      <td>26</td>\n",
       "      <td>Regular customer</td>\n",
       "      <td>351.141618</td>\n",
       "      <td>High Spender</td>\n",
       "      <td>6.0</td>\n",
       "      <td>Frequent customer</td>\n",
       "    </tr>\n",
       "    <tr>\n",
       "      <th>32583684</th>\n",
       "      <td>2504315</td>\n",
       "      <td>205818</td>\n",
       "      <td>3</td>\n",
       "      <td>5</td>\n",
       "      <td>15</td>\n",
       "      <td>3.0</td>\n",
       "      <td>False</td>\n",
       "      <td>21553</td>\n",
       "      <td>13.0</td>\n",
       "      <td>0.0</td>\n",
       "      <td>...</td>\n",
       "      <td>NaN</td>\n",
       "      <td>Regularly busy</td>\n",
       "      <td>Regularly busy</td>\n",
       "      <td>Most_orders</td>\n",
       "      <td>26</td>\n",
       "      <td>Regular customer</td>\n",
       "      <td>170.073770</td>\n",
       "      <td>High Spender</td>\n",
       "      <td>12.0</td>\n",
       "      <td>Regular customer</td>\n",
       "    </tr>\n",
       "    <tr>\n",
       "      <th>32583694</th>\n",
       "      <td>1108388</td>\n",
       "      <td>205818</td>\n",
       "      <td>5</td>\n",
       "      <td>4</td>\n",
       "      <td>5</td>\n",
       "      <td>1.0</td>\n",
       "      <td>False</td>\n",
       "      <td>21553</td>\n",
       "      <td>5.0</td>\n",
       "      <td>1.0</td>\n",
       "      <td>...</td>\n",
       "      <td>NaN</td>\n",
       "      <td>Least busy</td>\n",
       "      <td>Slowest_days</td>\n",
       "      <td>Most_orders</td>\n",
       "      <td>26</td>\n",
       "      <td>Regular customer</td>\n",
       "      <td>170.073770</td>\n",
       "      <td>High Spender</td>\n",
       "      <td>12.0</td>\n",
       "      <td>Regular customer</td>\n",
       "    </tr>\n",
       "    <tr>\n",
       "      <th>32616755</th>\n",
       "      <td>1916142</td>\n",
       "      <td>206049</td>\n",
       "      <td>1</td>\n",
       "      <td>2</td>\n",
       "      <td>17</td>\n",
       "      <td>NaN</td>\n",
       "      <td>True</td>\n",
       "      <td>21553</td>\n",
       "      <td>2.0</td>\n",
       "      <td>0.0</td>\n",
       "      <td>...</td>\n",
       "      <td>NaN</td>\n",
       "      <td>Regularly busy</td>\n",
       "      <td>Regularly busy</td>\n",
       "      <td>Most_orders</td>\n",
       "      <td>6</td>\n",
       "      <td>New customer</td>\n",
       "      <td>938.031250</td>\n",
       "      <td>High Spender</td>\n",
       "      <td>7.0</td>\n",
       "      <td>Frequent customer</td>\n",
       "    </tr>\n",
       "    <tr>\n",
       "      <th>32616779</th>\n",
       "      <td>379732</td>\n",
       "      <td>206049</td>\n",
       "      <td>4</td>\n",
       "      <td>1</td>\n",
       "      <td>14</td>\n",
       "      <td>5.0</td>\n",
       "      <td>False</td>\n",
       "      <td>21553</td>\n",
       "      <td>4.0</td>\n",
       "      <td>1.0</td>\n",
       "      <td>...</td>\n",
       "      <td>NaN</td>\n",
       "      <td>Regularly busy</td>\n",
       "      <td>Busiest_days</td>\n",
       "      <td>Most_orders</td>\n",
       "      <td>6</td>\n",
       "      <td>New customer</td>\n",
       "      <td>938.031250</td>\n",
       "      <td>High Spender</td>\n",
       "      <td>7.0</td>\n",
       "      <td>Frequent customer</td>\n",
       "    </tr>\n",
       "  </tbody>\n",
       "</table>\n",
       "<p>5127 rows × 25 columns</p>\n",
       "</div>"
      ],
      "text/plain": [
       "          order_id  user_id  order_number  order_dow  order_hour_of_day  \\\n",
       "1592        912404       17            12          2                 14   \n",
       "1654        603376       17            22          6                 16   \n",
       "16668      3264360      135             2          2                 21   \n",
       "16674       892534      135             3          0                  8   \n",
       "54053       229704      342             8          1                 19   \n",
       "...            ...      ...           ...        ...                ...   \n",
       "32556283   3172853   205650            18          1                  9   \n",
       "32583684   2504315   205818             3          5                 15   \n",
       "32583694   1108388   205818             5          4                  5   \n",
       "32616755   1916142   206049             1          2                 17   \n",
       "32616779    379732   206049             4          1                 14   \n",
       "\n",
       "          days_since_prior_order  first_order  product_id  add_to_cart_order  \\\n",
       "1592                         5.0        False       21553                5.0   \n",
       "1654                         4.0        False       21553                3.0   \n",
       "16668                       13.0        False       21553                6.0   \n",
       "16674                       12.0        False       21553                3.0   \n",
       "54053                       30.0        False       21553                9.0   \n",
       "...                          ...          ...         ...                ...   \n",
       "32556283                     7.0        False       21553               17.0   \n",
       "32583684                     3.0        False       21553               13.0   \n",
       "32583694                     1.0        False       21553                5.0   \n",
       "32616755                     NaN         True       21553                2.0   \n",
       "32616779                     5.0        False       21553                4.0   \n",
       "\n",
       "          reordered  ... price_range_loc     busiest_day     Busiest_day  \\\n",
       "1592            0.0  ...             NaN  Regularly busy  Regularly busy   \n",
       "1654            1.0  ...             NaN  Regularly busy  Regularly busy   \n",
       "16668           0.0  ...             NaN  Regularly busy  Regularly busy   \n",
       "16674           1.0  ...             NaN     Busiest day    Busiest_days   \n",
       "54053           0.0  ...             NaN  Regularly busy    Busiest_days   \n",
       "...             ...  ...             ...             ...             ...   \n",
       "32556283        1.0  ...             NaN  Regularly busy    Busiest_days   \n",
       "32583684        0.0  ...             NaN  Regularly busy  Regularly busy   \n",
       "32583694        1.0  ...             NaN      Least busy    Slowest_days   \n",
       "32616755        0.0  ...             NaN  Regularly busy  Regularly busy   \n",
       "32616779        1.0  ...             NaN  Regularly busy    Busiest_days   \n",
       "\n",
       "          Busiest_period_of_day max_order      loyalty_flag     spending  \\\n",
       "1592                Most_orders        41    Loyal customer   108.648299   \n",
       "1654                Most_orders        41    Loyal customer   108.648299   \n",
       "16668               Most_orders         5      New customer  1154.792308   \n",
       "16674            Average_orders         5      New customer  1154.792308   \n",
       "54053               Most_orders        17  Regular customer   114.426619   \n",
       "...                         ...       ...               ...          ...   \n",
       "32556283            Most_orders        26  Regular customer   351.141618   \n",
       "32583684            Most_orders        26  Regular customer   170.073770   \n",
       "32583694            Most_orders        26  Regular customer   170.073770   \n",
       "32616755            Most_orders         6      New customer   938.031250   \n",
       "32616779            Most_orders         6      New customer   938.031250   \n",
       "\n",
       "         spending_flag frequency         frequency_flag  \n",
       "1592      High Spender       5.0      Frequent customer  \n",
       "1654      High Spender       5.0      Frequent customer  \n",
       "16668     High Spender      12.0       Regular customer  \n",
       "16674     High Spender      12.0       Regular customer  \n",
       "54053     High Spender      23.0  Non-frequent customer  \n",
       "...                ...       ...                    ...  \n",
       "32556283  High Spender       6.0      Frequent customer  \n",
       "32583684  High Spender      12.0       Regular customer  \n",
       "32583694  High Spender      12.0       Regular customer  \n",
       "32616755  High Spender       7.0      Frequent customer  \n",
       "32616779  High Spender       7.0      Frequent customer  \n",
       "\n",
       "[5127 rows x 25 columns]"
      ]
     },
     "execution_count": 16,
     "metadata": {},
     "output_type": "execute_result"
    }
   ],
   "source": [
    "ords_prods_merge.loc[ords_prods_merge['prices'] > 100]"
   ]
  },
  {
   "cell_type": "code",
   "execution_count": 17,
   "id": "f59aa343",
   "metadata": {},
   "outputs": [],
   "source": [
    "ords_prods_merge.loc[ords_prods_merge['prices'] >100, 'prices'] = np.nan"
   ]
  },
  {
   "cell_type": "code",
   "execution_count": 18,
   "id": "02dcbd3f",
   "metadata": {},
   "outputs": [
    {
     "data": {
      "text/plain": [
       "25.0"
      ]
     },
     "execution_count": 18,
     "metadata": {},
     "output_type": "execute_result"
    }
   ],
   "source": [
    "ords_prods_merge['prices'].max()"
   ]
  },
  {
   "cell_type": "code",
   "execution_count": 19,
   "id": "3fcd36fa",
   "metadata": {},
   "outputs": [
    {
     "data": {
      "image/png": "[encoded data removed]",
      "text/plain": [
       "<Figure size 432x288 with 1 Axes>"
      ]
     },
     "metadata": {
      "needs_background": "light"
     },
     "output_type": "display_data"
    }
   ],
   "source": [
    "hist= ords_prods_merge['prices'].plot.hist(bins = 25)"
   ]
  },
  {
   "cell_type": "code",
   "execution_count": 20,
   "id": "99c054d0",
   "metadata": {},
   "outputs": [
    {
     "data": {
      "image/png": "[encoded data removed]",
      "text/plain": [
       "<Figure size 432x288 with 1 Axes>"
      ]
     },
     "metadata": {
      "needs_background": "light"
     },
     "output_type": "display_data"
    }
   ],
   "source": [
    "hist_2 = ords_prods_merge['prices'].plot.hist(bins = 70)"
   ]
  },
  {
   "cell_type": "code",
   "execution_count": 21,
   "id": "4e5d72f8",
   "metadata": {},
   "outputs": [],
   "source": [
    " hist.figure.savefig(os.path.join(path, '04 Analysis','Visualizations', 'hist_prices.png'))"
   ]
  },
  {
   "cell_type": "code",
   "execution_count": 22,
   "id": "2152b54e",
   "metadata": {},
   "outputs": [],
   "source": [
    " hist_2.figure.savefig(os.path.join(path, '04 Analysis','Visualizations', 'hist_prices.png'))"
   ]
  },
  {
   "cell_type": "markdown",
   "id": "596f89b4",
   "metadata": {},
   "source": [
    "# Line chart"
   ]
  },
  {
   "cell_type": "code",
   "execution_count": 23,
   "id": "f27d20ad",
   "metadata": {},
   "outputs": [],
   "source": [
    "# sampling data\n",
    "np.random.seed(4)\n",
    "dev = np.random.rand(len(ords_prods_merge)) <= 0.7"
   ]
  },
  {
   "cell_type": "code",
   "execution_count": 24,
   "id": "eec70acf",
   "metadata": {},
   "outputs": [],
   "source": [
    "big = ords_prods_merge[dev]\n",
    "small = ords_prods_merge[~dev]"
   ]
  },
  {
   "cell_type": "code",
   "execution_count": 25,
   "id": "8400aa97",
   "metadata": {},
   "outputs": [
    {
     "data": {
      "text/plain": [
       "32641268"
      ]
     },
     "execution_count": 25,
     "metadata": {},
     "output_type": "execute_result"
    }
   ],
   "source": [
    "len(ords_prods_merge)"
   ]
  },
  {
   "cell_type": "code",
   "execution_count": 26,
   "id": "f1ef801c",
   "metadata": {},
   "outputs": [
    {
     "data": {
      "text/plain": [
       "32641268"
      ]
     },
     "execution_count": 26,
     "metadata": {},
     "output_type": "execute_result"
    }
   ],
   "source": [
    "len(big)+len(small)"
   ]
  },
  {
   "cell_type": "code",
   "execution_count": 27,
   "id": "47e899fc",
   "metadata": {},
   "outputs": [],
   "source": [
    "df_2 = small[['order_dow','prices']]"
   ]
  },
  {
   "cell_type": "code",
   "execution_count": 28,
   "id": "dac4d2bd",
   "metadata": {},
   "outputs": [
    {
     "data": {
      "image/png": "[encoded data removed]",
      "text/plain": [
       "<Figure size 432x288 with 1 Axes>"
      ]
     },
     "metadata": {
      "needs_background": "light"
     },
     "output_type": "display_data"
    }
   ],
   "source": [
    "line = sns.lineplot(data = df_2, x = 'order_dow',y = 'prices')"
   ]
  },
  {
   "cell_type": "code",
   "execution_count": 30,
   "id": "f614d7c8",
   "metadata": {},
   "outputs": [],
   "source": [
    "# saving\n",
    "line.figure.savefig(os.path.join(path, '04 Analysis','Visualizations','line.png'))"
   ]
  },
  {
   "cell_type": "code",
   "execution_count": null,
   "id": "fc0506a8",
   "metadata": {},
   "outputs": [],
   "source": []
  }
 ],
 "metadata": {
  "kernelspec": {
   "display_name": "Python 3 (ipykernel)",
   "language": "python",
   "name": "python3"
  },
  "language_info": {
   "codemirror_mode": {
    "name": "ipython",
    "version": 3
   },
   "file_extension": ".py",
   "mimetype": "text/x-python",
   "name": "python",
   "nbconvert_exporter": "python",
   "pygments_lexer": "ipython3",
   "version": "3.9.7"
  }
 },
 "nbformat": 4,
 "nbformat_minor": 5
}
